{
 "cells": [
  {
   "cell_type": "code",
   "execution_count": 1,
   "metadata": {},
   "outputs": [],
   "source": [
    "%reload_ext autoreload\n",
    "%autoreload 2\n",
    "%matplotlib inline\n",
    "import matplotlib.pyplot as plt"
   ]
  },
  {
   "cell_type": "markdown",
   "metadata": {},
   "source": [
    "pip install pytorch-transformers"
   ]
  },
  {
   "cell_type": "code",
   "execution_count": 2,
   "metadata": {},
   "outputs": [],
   "source": [
    "import torch\n",
    "import torch.nn as nn\n",
    "import pickle\n",
    "from torch.utils.data import (DataLoader, RandomSampler, SequentialSampler,\n",
    "                              TensorDataset)\n",
    "from tqdm import tqdm_notebook, trange\n",
    "import os\n",
    "from pytorch_transformers import BertConfig, BertTokenizer, BertModel\n",
    "from pytorch_transformers.optimization import AdamW, WarmupLinearSchedule\n",
    "\n",
    "from torch.utils.data import Dataset, DataLoader"
   ]
  },
  {
   "cell_type": "code",
   "execution_count": 3,
   "metadata": {},
   "outputs": [],
   "source": [
    "import numpy as np\n",
    "import torch.optim as optim\n",
    "from torch.optim import lr_scheduler\n",
    "import time\n",
    "import copy\n",
    "import torch.nn.functional as F"
   ]
  },
  {
   "cell_type": "markdown",
   "metadata": {},
   "source": [
    "## Pretrained bert model"
   ]
  },
  {
   "cell_type": "code",
   "execution_count": 4,
   "metadata": {},
   "outputs": [],
   "source": [
    "class BertForSequenceClassification(nn.Module):\n",
    "    \"\"\"BERT model for classification.\n",
    "    This module is composed of the BERT model with a linear layer on top of\n",
    "    the pooled output.\n",
    "    \"\"\"\n",
    "    def __init__(self, num_labels=1):\n",
    "        super(BertForSequenceClassification, self).__init__()\n",
    "        self.num_labels = num_labels\n",
    "        self.bert = BertModel.from_pretrained('bert-base-cased')\n",
    "        self.dropout = nn.Dropout(config.hidden_dropout_prob)\n",
    "        self.classifier = nn.Linear(config.hidden_size, num_labels)\n",
    "        nn.init.xavier_normal_(self.classifier.weight)\n",
    "        \n",
    "    def forward(self, input_ids, token_type_ids=None, attention_mask=None, labels=None):\n",
    "        outputs = self.bert(input_ids, token_type_ids, attention_mask)\n",
    "        pooled_output = outputs[1]\n",
    "        pooled_output = self.dropout(pooled_output)\n",
    "        logits = self.classifier(pooled_output)\n",
    "        return logits\n",
    "    \n",
    "    def freeze_bert_encoder(self):\n",
    "        for param in self.bert.parameters():\n",
    "            param.requires_grad = False\n",
    "    \n",
    "    def unfreeze_bert_encoder(self):\n",
    "        for param in self.bert.parameters():\n",
    "            param.requires_grad = True"
   ]
  },
  {
   "cell_type": "code",
   "execution_count": 5,
   "metadata": {},
   "outputs": [],
   "source": [
    "config = BertConfig(vocab_size_or_config_json_file=32000, hidden_size=768,\n",
    "        num_hidden_layers=12, num_attention_heads=12, intermediate_size=3072)"
   ]
  },
  {
   "cell_type": "code",
   "execution_count": 6,
   "metadata": {},
   "outputs": [],
   "source": [
    "num_labels = 1\n",
    "model = BertForSequenceClassification(num_labels)"
   ]
  },
  {
   "cell_type": "code",
   "execution_count": 7,
   "metadata": {},
   "outputs": [],
   "source": [
    "from pathlib import Path\n",
    "PATH = Path(\"/data2/yinterian/aclImdb/\")"
   ]
  },
  {
   "cell_type": "code",
   "execution_count": 8,
   "metadata": {},
   "outputs": [],
   "source": [
    "tokenizer = BertTokenizer.from_pretrained('bert-base-cased')"
   ]
  },
  {
   "cell_type": "code",
   "execution_count": 9,
   "metadata": {},
   "outputs": [
    {
     "data": {
      "text/plain": [
       "28996"
      ]
     },
     "execution_count": 9,
     "metadata": {},
     "output_type": "execute_result"
    }
   ],
   "source": [
    "tokenizer.vocab_size"
   ]
  },
  {
   "cell_type": "code",
   "execution_count": 10,
   "metadata": {},
   "outputs": [
    {
     "data": {
      "text/plain": [
       "['B', '##rom', '##well', 'High', 'is', 'a', 'cartoon', 'comedy', '.', 'It']"
      ]
     },
     "execution_count": 10,
     "metadata": {},
     "output_type": "execute_result"
    }
   ],
   "source": [
    "path = PATH/\"train/pos/0_9.txt\"\n",
    "z = tokenizer.tokenize(path.read_text())\n",
    "z[:10]"
   ]
  },
  {
   "cell_type": "code",
   "execution_count": 11,
   "metadata": {},
   "outputs": [
    {
     "data": {
      "text/plain": [
       "[139, 16071, 3192, 1693, 1110, 170, 11540, 3789, 119, 1135]"
      ]
     },
     "execution_count": 11,
     "metadata": {},
     "output_type": "execute_result"
    }
   ],
   "source": [
    "ids = tokenizer.convert_tokens_to_ids(z)\n",
    "ids[:10]"
   ]
  },
  {
   "cell_type": "code",
   "execution_count": 12,
   "metadata": {},
   "outputs": [],
   "source": [
    "tokens_tensor = torch.tensor([ids])"
   ]
  },
  {
   "cell_type": "code",
   "execution_count": 13,
   "metadata": {},
   "outputs": [],
   "source": [
    "logits = model(tokens_tensor)"
   ]
  },
  {
   "cell_type": "code",
   "execution_count": 14,
   "metadata": {},
   "outputs": [
    {
     "data": {
      "text/plain": [
       "tensor([[0.6148]], grad_fn=<AddmmBackward>)"
      ]
     },
     "execution_count": 14,
     "metadata": {},
     "output_type": "execute_result"
    }
   ],
   "source": [
    "logits "
   ]
  },
  {
   "cell_type": "markdown",
   "metadata": {},
   "source": [
    "Based on these tutorials\n",
    "* https://pytorch.org/hub/huggingface_pytorch-pretrained-bert_bert/\n",
    "* https://github.com/huggingface/pytorch-transformers/blob/master/README.md\n",
    "* https://medium.com/huggingface/multi-label-text-classification-using-bert-the-mighty-transformer-69714fa3fb3d\n",
    "* https://towardsdatascience.com/bert-classifier-just-another-pytorch-model-881b3cf05784"
   ]
  },
  {
   "cell_type": "code",
   "execution_count": 15,
   "metadata": {},
   "outputs": [],
   "source": [
    "def text2ids(text, max_seq_length=300):\n",
    "    tok_text = tokenizer.tokenize(text)\n",
    "    if len(tok_text) > max_seq_length:\n",
    "            tok_text = tok_text[:max_seq_length]\n",
    "    ids_text  = tokenizer.convert_tokens_to_ids(tok_text)\n",
    "    padding = [0] * (max_seq_length - len(ids_text))\n",
    "    ids_text += padding\n",
    "    return np.array(ids_text)"
   ]
  },
  {
   "cell_type": "code",
   "execution_count": 16,
   "metadata": {},
   "outputs": [
    {
     "data": {
      "text/plain": [
       "array([  139, 16071,  3192,  1693,  1110,   170, 11540,  3789,   119,\n",
       "        1135,  1868,  1120,  1103,  1269,  1159,  1112,  1199,  1168,\n",
       "        2648,  1164,  1278,  1297,   117,  1216,  1112,   107, 14290,\n",
       "         107,   119,  1422,  2588,  1201,  1107,  1103,  3679,  9545,\n",
       "        1730,  1143,  1106,  2059,  1115,   139, 16071,  3192,  1693,\n",
       "         112,   188, 20817,  1110,  1277,  2739,  1106,  3958,  1190,\n",
       "        1110,   107, 14290,   107,   119,  1109,   188,  1665,  4515,\n",
       "        2165,  1106,  5195, 14396,   117,  1103, 14222,  2365,  1651,\n",
       "        1150,  1169,  1267,  1268,  1194,  1147, 18970,  4952,   112,\n",
       "         185,  4165,  1643,   117,  1103, 11109, 12569,  3954,  1104,\n",
       "        1103,  2006,  2820,   117,  1155, 11484,  1143,  1104,  1103,\n",
       "        2126,   146,  1450,  1105,  1147,  1651,   119,  1332,   146,\n",
       "        1486,  1103,  2004,  1107,  1134,   170,  2377,  8038,  1793,\n",
       "        1106,  6790,  1205,  1103,  1278,   117,   146,  2411,  6901,\n",
       "         119,   119,   119,   119,   119,   119,   119,   119,   119,\n",
       "        1120,   119,   119,   119,   119,   119,   119,   119,   119,\n",
       "         119,   119,  1693,   119,   138,  5263,  1413,   131, 15969,\n",
       "       15735,  8231, 18082,  2069,   131,   146,   112,   182,  1303,\n",
       "        1106, 14204,  1141,  1104,  1240,  4952,   119, 23676,  2591,\n",
       "       20427, 15681,   131, 12050,  1106,   139, 16071,  3192,  1693,\n",
       "         119,   146,  5363,  1115,  1242,  6323,  1104,  1139,  1425,\n",
       "        1341,  1115,   139, 16071,  3192,  1693,  1110,  1677, 21616,\n",
       "        1174,   119,  1327,   170, 13532,  1115,  1122,  2762,   112,\n",
       "         189,   106,     0,     0,     0,     0,     0,     0,     0,\n",
       "           0,     0,     0,     0,     0,     0,     0,     0,     0,\n",
       "           0,     0,     0,     0,     0,     0,     0,     0,     0,\n",
       "           0,     0,     0,     0,     0,     0,     0,     0,     0,\n",
       "           0,     0,     0,     0,     0,     0,     0,     0,     0,\n",
       "           0,     0,     0,     0,     0,     0,     0,     0,     0,\n",
       "           0,     0,     0,     0,     0,     0,     0,     0,     0,\n",
       "           0,     0,     0,     0,     0,     0,     0,     0,     0,\n",
       "           0,     0,     0,     0,     0,     0,     0,     0,     0,\n",
       "           0,     0,     0,     0,     0,     0,     0,     0,     0,\n",
       "           0,     0,     0])"
      ]
     },
     "execution_count": 16,
     "metadata": {},
     "output_type": "execute_result"
    }
   ],
   "source": [
    "text2ids(path.read_text())"
   ]
  },
  {
   "cell_type": "code",
   "execution_count": 17,
   "metadata": {},
   "outputs": [],
   "source": [
    "class ImdbDataset(Dataset):\n",
    "    def __init__(self, PATH, train=\"train\"):\n",
    "        self.path_to_images = PATH/train\n",
    "        self.pos_files = list((self.path_to_images/\"pos\").iterdir())\n",
    "        self.neg_files = list((self.path_to_images/\"neg\").iterdir()) \n",
    "        self.files = self.pos_files + self.neg_files\n",
    "        self.y = np.concatenate((np.ones(len(self.pos_files), dtype=int),\n",
    "                                np.zeros(len(self.neg_files), dtype=int)), axis=0)\n",
    "        \n",
    "    def __getitem__(self, index):\n",
    "        path = self.files[index]\n",
    "        x = text2ids(path.read_text())\n",
    "        return x, self.y[index]\n",
    "    \n",
    "    def __len__(self):\n",
    "        return len(self.y)"
   ]
  },
  {
   "cell_type": "code",
   "execution_count": 18,
   "metadata": {},
   "outputs": [],
   "source": [
    "train_ds = ImdbDataset(PATH)\n",
    "valid_ds = ImdbDataset(PATH, \"test\")"
   ]
  },
  {
   "cell_type": "code",
   "execution_count": 33,
   "metadata": {},
   "outputs": [],
   "source": [
    "batch_size = 10\n",
    "train_dl = DataLoader(train_ds, batch_size=batch_size, shuffle=True)\n",
    "valid_dl = DataLoader(valid_ds, batch_size=batch_size)"
   ]
  },
  {
   "cell_type": "markdown",
   "metadata": {},
   "source": [
    "## train"
   ]
  },
  {
   "cell_type": "code",
   "execution_count": 28,
   "metadata": {},
   "outputs": [],
   "source": [
    "def train_model(model, optimizer, num_epochs=25):\n",
    "    for epoch in range(num_epochs):\n",
    "        model.train()\n",
    "        running_loss = 0.0\n",
    "        for x, y in train_dl:\n",
    "            x = x.cuda()\n",
    "            y = y.unsqueeze(1).float().cuda()\n",
    "            optimizer.zero_grad()\n",
    "            logits = model(x)\n",
    "            loss = F.binary_cross_entropy_with_logits(logits, y)            \n",
    "            loss.backward()\n",
    "            optimizer.step()\n",
    "                \n",
    "            running_loss += loss.item() * x.size(0)\n",
    "        epoch_loss = running_loss / len(train_ds)\n",
    "        val_loss, accuracy = eval_model(model)\n",
    "        print('train loss: {:.3f}, valid loss {:.3f} accuracy {:.3f}'.format(\n",
    "            epoch_loss, val_loss, accuracy))"
   ]
  },
  {
   "cell_type": "code",
   "execution_count": 29,
   "metadata": {},
   "outputs": [],
   "source": [
    "def eval_model(model):\n",
    "    model.eval()\n",
    "    running_loss = 0.0\n",
    "    correct = 0\n",
    "    for x, y in valid_dl:\n",
    "        x = x.cuda()\n",
    "        y = y.unsqueeze(1).float().cuda()\n",
    "        logits = model(x)\n",
    "        loss = F.binary_cross_entropy_with_logits(logits, y) \n",
    "        y_pred = logits > 0\n",
    "        correct += (y_pred.float() == y).float().sum()\n",
    "        running_loss += loss.item() * x.size(0)\n",
    "    accuracy = correct / len(valid_ds)\n",
    "    epoch_loss = running_loss / len(valid_ds)\n",
    "    return epoch_loss, accuracy.item() "
   ]
  },
  {
   "cell_type": "code",
   "execution_count": 34,
   "metadata": {},
   "outputs": [],
   "source": [
    "model = BertForSequenceClassification(num_labels).cuda()"
   ]
  },
  {
   "cell_type": "code",
   "execution_count": 35,
   "metadata": {},
   "outputs": [],
   "source": [
    "lrlast = .0001\n",
    "lrmain = .00001\n",
    "optimizer = optim.Adam(\n",
    "    [\n",
    "        {\"params\":model.bert.parameters(),\"lr\": lrmain},\n",
    "        {\"params\":model.classifier.parameters(), \"lr\": lrlast},\n",
    "       \n",
    "   ])"
   ]
  },
  {
   "cell_type": "code",
   "execution_count": 36,
   "metadata": {},
   "outputs": [
    {
     "name": "stdout",
     "output_type": "stream",
     "text": [
      "train loss: 0.294, valid loss 0.212 accuracy 0.916\n",
      "train loss: 0.166, valid loss 0.221 accuracy 0.917\n"
     ]
    }
   ],
   "source": [
    "train_model(model, optimizer, num_epochs=2)"
   ]
  }
 ],
 "metadata": {
  "kernelspec": {
   "display_name": "Python 3",
   "language": "python",
   "name": "python3"
  },
  "language_info": {
   "codemirror_mode": {
    "name": "ipython",
    "version": 3
   },
   "file_extension": ".py",
   "mimetype": "text/x-python",
   "name": "python",
   "nbconvert_exporter": "python",
   "pygments_lexer": "ipython3",
   "version": "3.8.5"
  },
  "toc": {
   "base_numbering": 1,
   "nav_menu": {},
   "number_sections": true,
   "sideBar": true,
   "skip_h1_title": false,
   "title_cell": "Table of Contents",
   "title_sidebar": "Contents",
   "toc_cell": false,
   "toc_position": {},
   "toc_section_display": "block",
   "toc_window_display": false
  }
 },
 "nbformat": 4,
 "nbformat_minor": 2
}
